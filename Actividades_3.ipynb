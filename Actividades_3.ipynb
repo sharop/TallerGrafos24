{
  "nbformat": 4,
  "nbformat_minor": 0,
  "metadata": {
    "colab": {
      "provenance": [],
      "collapsed_sections": [
        "1zWP6dKkWYI_"
      ],
      "authorship_tag": "ABX9TyPr6ufF9AIQZgMZXeXmpbZy",
      "include_colab_link": true
    },
    "kernelspec": {
      "name": "python3",
      "display_name": "Python 3"
    },
    "language_info": {
      "name": "python"
    }
  },
  "cells": [
    {
      "cell_type": "markdown",
      "metadata": {
        "id": "view-in-github",
        "colab_type": "text"
      },
      "source": [
        "<a href=\"https://colab.research.google.com/github/sharop/TallerGrafos24/blob/main/Actividades_3.ipynb\" target=\"_parent\"><img src=\"https://colab.research.google.com/assets/colab-badge.svg\" alt=\"Open In Colab\"/></a>"
      ]
    },
    {
      "cell_type": "code",
      "source": [
        "## Helper functions\n",
        "def PlotGraph(grafo, value_on_egdes=False):\n",
        "  plt.figure(figsize=(8, 6))\n",
        "  pos = nx.spring_layout(grafo, seed=42)  # para un diseño consistente\n",
        "  nx.draw(grafo, pos, with_labels=True, node_color='lightblue', node_size=2500)\n",
        "\n",
        "  if value_on_egdes:\n",
        "    edge_labels = {i[0:2]:'{}'.format(i[2]['weight']) for i in grafo.edges(data=True)}\n",
        "    nx.draw_networkx_edge_labels(grafo, pos=pos, edge_labels=edge_labels)\n"
      ],
      "metadata": {
        "id": "M37V3NcNjAEq"
      },
      "execution_count": null,
      "outputs": []
    },
    {
      "cell_type": "markdown",
      "source": [
        "# Ejemplo sencillo de clasificación de peliculas."
      ],
      "metadata": {
        "id": "drSnWdIO-IwQ"
      }
    },
    {
      "cell_type": "code",
      "source": [
        "import networkx as nx\n",
        "import numpy as np\n",
        "import matplotlib.pyplot as plt\n",
        "\n",
        "\n",
        "# Crear un grafo bipartito\n",
        "G = nx.Graph()\n",
        "users = ['Juan', 'Ric', 'Urs', 'Ale']\n",
        "movies = ['TS9', 'T-25', 'SW', 'MBros']\n",
        "edges = [('Juan', 'TS9'), ('Juan', 'T-25'), ('Ric', 'TS9'),\n",
        " ('Ric', 'MBros'), ('Urs', 'T-25'), ('Urs', 'SW'), ('Ale', 'SW'), ('Ale', 'MBros')]\n",
        "G.add_nodes_from(users, bipartite=0)\n",
        "G.add_nodes_from(movies, bipartite=1)\n",
        "G.add_edges_from(edges)\n",
        "\n",
        "# Dibujar el grafo\n",
        "plt.figure(figsize=(8, 6))\n",
        "pos = nx.spring_layout(G, seed=42)  # para un diseño consistente\n",
        "nx.draw(G, pos, with_labels=True, node_color='lightblue', node_size=2500)\n",
        "\n",
        "# Función para generar recomendaciones\n",
        "def recommend_movies(user):\n",
        "    # Buscar películas vistas por el usuario\n",
        "    seen_movies = set(nx.neighbors(G, user))\n",
        "\n",
        "    # Encontrar usuarios similares que también han calificado las mismas películas\n",
        "    similar_users = set()\n",
        "    for movie in seen_movies:\n",
        "        for u in G.neighbors(movie):\n",
        "            similar_users.add(u)\n",
        "\n",
        "    # Recolectar las películas calificadas por los usuarios similares y no vistas por el usuario objetivo\n",
        "    candidate_movies = set()\n",
        "    for u in similar_users:\n",
        "        for movie in G.neighbors(u):\n",
        "            if movie not in seen_movies:\n",
        "                candidate_movies.add(movie)\n",
        "\n",
        "    return list(candidate_movies)\n",
        "\n",
        "# Generar recomendaciones para un usuario específico\n",
        "movies_for= 'Juan'\n",
        "recommendations = recommend_movies(movies_for)\n",
        "print(recommendations)\n"
      ],
      "metadata": {
        "id": "DUFZpG8JA1HQ"
      },
      "execution_count": null,
      "outputs": []
    },
    {
      "cell_type": "code",
      "source": [
        "# G.add_edges_from([(movies_for, r) for r in recommendations])\n",
        "# nx.draw(G, pos, with_labels=True, node_color='lightblue', node_size=2500)\n"
      ],
      "metadata": {
        "id": "sS3szF1gTJiu"
      },
      "execution_count": null,
      "outputs": []
    },
    {
      "cell_type": "markdown",
      "source": [
        "# Recomendaciones\n",
        "##  Grafos multipartitos\n",
        "\n",
        "Ejemplo, Un servicio de streaming de música que incluya nodos para los usuarios, los artistas, los géneros musicales y las canciones.\n",
        "Un usuario estaría conectado a las canciones que ha escuchado, los artistas a las canciones que han producido, y las canciones a los géneros a los que pertenecen.\n",
        "Podemos usar este grafo para hacer recomendaciones de varias maneras. Una opción es utilizar un enfoque basado en la vecindad, en el que recomendamos a un usuario las canciones que son \"cercanas\" a las que ya ha escuchado en el grafo. Por ejemplo, podríamos recomendar canciones de los mismos artistas o del mismo género.\n",
        "\n",
        "Para el ejemplo siguiente se crea un grafo con usuarios y canciones. Y muestra las conexiones entre usuarios basado en lo que se escucha y canciones basado en los usuarios."
      ],
      "metadata": {
        "id": "Fjc0txcOhl2d"
      }
    },
    {
      "cell_type": "code",
      "source": [
        "import networkx as nx\n",
        "\n",
        "# Crear el grafo multipartito no dirigido\n",
        "B = nx.Graph()\n",
        "B.add_nodes_from(['user1', 'user2', 'user3'], bipartite=0)\n",
        "B.add_nodes_from(['song1', 'song2', 'song3', 'song4'], bipartite=1)\n",
        "B.add_edges_from([('user1', 'song1'), ('user1', 'song2'), ('user2', 'song2'), ('user2', 'song3'), ('user3', 'song3'), ('user3', 'song4')])\n",
        "\n",
        "PlotGraph(B)\n"
      ],
      "metadata": {
        "id": "Sf3V3L0AiZv5"
      },
      "execution_count": null,
      "outputs": []
    },
    {
      "cell_type": "code",
      "source": [
        "# Crear proyecciones de usuarios y canciones\n",
        "users = {n for n, d in B.nodes(data=True) if d['bipartite']==0}\n",
        "user_net = nx.bipartite.projected_graph(B, users)\n",
        "PlotGraph(user_net)\n"
      ],
      "metadata": {
        "id": "WKD682Egj94P"
      },
      "execution_count": null,
      "outputs": []
    },
    {
      "cell_type": "code",
      "source": [
        "songs = {n for n, d in B.nodes(data=True) if d['bipartite']==1}\n",
        "song_net = nx.bipartite.projected_graph(B, songs)\n",
        "PlotGraph(song_net)\n",
        "\n"
      ],
      "metadata": {
        "id": "15m8-uuSkKMM"
      },
      "execution_count": null,
      "outputs": []
    },
    {
      "cell_type": "code",
      "source": [
        "# Hacer recomendaciones basadas en la proximidad de los usuarios\n",
        "for user in user_net:\n",
        "    print(f\"Recomendaciones para {user}:\")\n",
        "    for neighbor in user_net.neighbors(user):\n",
        "        print(f\"   {neighbor}\")"
      ],
      "metadata": {
        "id": "NJ7gkNFkkPdh"
      },
      "execution_count": null,
      "outputs": []
    },
    {
      "cell_type": "code",
      "source": [
        "# Hacer recomendaciones basadas en la proximidad de los usuarios\n",
        "for song in song_net:\n",
        "    print(f\"Recomendaciones para {song}:\")\n",
        "    for neighbor in song_net.neighbors(song):\n",
        "        print(f\"   {neighbor}\")"
      ],
      "metadata": {
        "id": "3AzpHKTfkxWQ"
      },
      "execution_count": null,
      "outputs": []
    },
    {
      "cell_type": "markdown",
      "source": [
        "Para hacer recomendaciones de canciones, podríamos recomendar las canciones que han sido escuchadas por usuarios que han escuchado las mismas canciones que el usuario de interés. (Ejemplo que ya hemos visto)"
      ],
      "metadata": {
        "id": "nkncnoV0ldP_"
      }
    },
    {
      "cell_type": "markdown",
      "source": [],
      "metadata": {
        "id": "7VfTCigqlvdM"
      }
    },
    {
      "cell_type": "code",
      "source": [
        "import networkx as nx\n",
        "from networkx.algorithms import bipartite\n",
        "\n",
        "# Crear el grafo multipartito\n",
        "B = nx.Graph()\n",
        "B.add_nodes_from(['user1', 'user2', 'user3'], bipartite=0) # Add the node attribute \"bipartite\"\n",
        "B.add_nodes_from(['song1', 'song2', 'song3', 'song4'], bipartite=1)\n",
        "B.add_edges_from([('user1', 'song1'), ('user1', 'song2'), ('user2', 'song2'), ('user2', 'song3'), ('user3', 'song3'), ('user3', 'song4')])\n",
        "\n",
        "# Crear proyecciones de usuarios y canciones\n",
        "users = {n for n, d in B.nodes(data=True) if d['bipartite']==0}\n",
        "songs = {n for n, d in B.nodes(data=True) if d['bipartite']==1}\n",
        "\n",
        "user_net = nx.bipartite.projected_graph(B, users)\n",
        "song_net = nx.bipartite.projected_graph(B, songs)\n",
        "\n",
        "# Hacer recomendaciones basadas en la proximidad de los usuarios\n",
        "for user in user_net:\n",
        "    print(f\"Recomendaciones para {user}:\")\n",
        "    for neighbor in user_net.neighbors(user):\n",
        "        # Obtenemos las canciones que ha escuchado el 'vecino'\n",
        "        neighbor_songs = set(B.neighbors(neighbor))\n",
        "        # Obtenemos las canciones que ya ha escuchado el usuario\n",
        "        user_songs = set(B.neighbors(user))\n",
        "        # Recomendamos las canciones que ha escuchado el 'vecino', pero que el usuario aún no ha escuchado\n",
        "        recommendations = neighbor_songs - user_songs\n",
        "        for song in recommendations:\n",
        "            print(f\"   {song}\")\n"
      ],
      "metadata": {
        "id": "k-cdmSPElcai"
      },
      "execution_count": null,
      "outputs": []
    },
    {
      "cell_type": "markdown",
      "source": [
        "## Mismo ejemplo con mas información.\n",
        "\n",
        "El código  tomará en cuenta la cantidad de veces que una canción ha sido escuchada por los vecinos de un usuario"
      ],
      "metadata": {
        "id": "M5xzrWNClIYH"
      }
    },
    {
      "cell_type": "code",
      "source": [
        "import networkx as nx\n",
        "from networkx.algorithms import bipartite\n",
        "from collections import Counter\n",
        "\n",
        "# Crear el grafo multipartito\n",
        "B = nx.Graph()\n",
        "B.add_nodes_from(['user1', 'user2', 'user3'], bipartite=0)\n",
        "B.add_nodes_from(['song1', 'song2', 'song3', 'song4'], bipartite=1)\n",
        "B.add_edges_from([('user1', 'song1'), ('user1', 'song2'), ('user2', 'song2'),\n",
        "                  ('user2', 'song3'), ('user3', 'song3'), ('user3', 'song4')])\n",
        "\n",
        "# Crear proyecciones de usuarios y canciones\n",
        "users = {n for n, d in B.nodes(data=True) if d['bipartite']==0}\n",
        "songs = {n for n, d in B.nodes(data=True) if d['bipartite']==1}\n",
        "\n",
        "user_net = nx.bipartite.projected_graph(B, users)\n",
        "song_net = nx.bipartite.projected_graph(B, songs)\n",
        "\n",
        "# Hacer recomendaciones basadas en la proximidad de los usuarios y la popularidad de las canciones\n",
        "for user in user_net:\n",
        "    print(f\"Recomendaciones para {user}:\")\n",
        "    # inicializamos un contador para las recomendaciones\n",
        "    rec_counter = Counter()\n",
        "    for neighbor in user_net.neighbors(user):\n",
        "        # Obtenemos las canciones que ha escuchado el 'vecino'\n",
        "        neighbor_songs = set(B.neighbors(neighbor))\n",
        "        # Obtenemos las canciones que ya ha escuchado el usuario\n",
        "        user_songs = set(B.neighbors(user))\n",
        "        # Recomendamos las canciones que ha escuchado el 'vecino', pero que el usuario aún no ha escuchado\n",
        "        recommendations = neighbor_songs - user_songs\n",
        "        for song in recommendations:\n",
        "            # añadimos las recomendaciones al contador\n",
        "            rec_counter[song] += 1\n",
        "    # ordenamos las recomendaciones por popularidad (el número de 'vecinos' que las han escuchado)\n",
        "    sorted_rec = sorted(rec_counter.items(), key=lambda x: x[1], reverse=True)\n",
        "    for song, count in sorted_rec:\n",
        "        print(f\"   {song} (escuchada por {count} vecinos)\")\n"
      ],
      "metadata": {
        "id": "uvlGC1tVmIpY"
      },
      "execution_count": null,
      "outputs": []
    },
    {
      "cell_type": "markdown",
      "source": [
        "ahora recomendará canciones basadas no solo en los vecinos del usuario, sino también en la cantidad de vecinos que han escuchado cada canción."
      ],
      "metadata": {
        "id": "9eFPeF34mt6d"
      }
    },
    {
      "cell_type": "markdown",
      "source": [
        "# MBA con grafos."
      ],
      "metadata": {
        "id": "nIvnzyDkoCF8"
      }
    },
    {
      "cell_type": "markdown",
      "source": [
        "Usaremos datos dummy para este ejemplo."
      ],
      "metadata": {
        "id": "FhKF0MIzoINE"
      }
    },
    {
      "cell_type": "code",
      "source": [
        "transactions = [\n",
        "    ['Bread', 'Milk', 'Beer'],\n",
        "    ['Bread', 'Diapers', 'Eggs'],\n",
        "    ['Milk', 'Diapers', 'Beer', 'Cola'],\n",
        "    ['Bread', 'Milk', 'Diapers', 'Beer'],\n",
        "    ['Bread', 'Milk', 'Cola'],\n",
        "]\n"
      ],
      "metadata": {
        "id": "b10NQdDjoH14"
      },
      "execution_count": null,
      "outputs": []
    },
    {
      "cell_type": "markdown",
      "source": [
        "Creamos un grafo ponderado donde los nodos representen articulos y las conexiones representen los articulos que se compraron juntos.\n",
        "\n",
        "El peso de cada conexion representa el numero de transacciones en las que aparecen ambos articulos."
      ],
      "metadata": {
        "id": "-R52jTdkoQSQ"
      }
    },
    {
      "cell_type": "code",
      "source": [
        "import networkx as nx\n",
        "\n",
        "G = nx.Graph()\n",
        "\n",
        "for transaction in transactions:\n",
        "    for i in range(len(transaction)):\n",
        "        for j in range(i+1, len(transaction)):\n",
        "            if G.has_edge(transaction[i], transaction[j]):\n",
        "                G[transaction[i]][transaction[j]]['weight'] += 1\n",
        "            else:\n",
        "                G.add_edge(transaction[i], transaction[j], weight=1)\n",
        "PlotGraph(G, True)"
      ],
      "metadata": {
        "id": "y80ZiBAooPon"
      },
      "execution_count": null,
      "outputs": []
    },
    {
      "cell_type": "markdown",
      "source": [
        "Por ultimo identificamos las relaciones mas fuertes entre los articulos."
      ],
      "metadata": {
        "id": "E8fepShPp1jP"
      }
    },
    {
      "cell_type": "code",
      "source": [
        "strongest_relations = sorted(G.edges(data=True), key=lambda x: x[2]['weight'], reverse=True)\n",
        "\n",
        "print(\"Las relaciones más fuertes son:\")\n",
        "for edge in strongest_relations:\n",
        "    print(f\"{edge[0]} y {edge[1]}: {edge[2]['weight']} veces\")\n"
      ],
      "metadata": {
        "id": "8Ys9q9RHopLj"
      },
      "execution_count": null,
      "outputs": []
    },
    {
      "cell_type": "markdown",
      "source": [
        "## Page RANK"
      ],
      "metadata": {
        "id": "OpfyvqLHqNY7"
      }
    },
    {
      "cell_type": "markdown",
      "source": [
        "Obteniendo DataSets"
      ],
      "metadata": {
        "id": "ajt-lhhTMh28"
      }
    },
    {
      "cell_type": "code",
      "source": [
        "# Download MovieLens data.\n",
        "print(\"Downloading movielens data...\")\n",
        "from urllib.request import urlretrieve\n",
        "import zipfile\n",
        "\n",
        "urlretrieve(\"http://files.grouplens.org/datasets/movielens/ml-latest-small.zip\", \"movielens.zip\")\n",
        "zip_ref = zipfile.ZipFile('movielens.zip', \"r\")\n",
        "zip_ref.extractall()\n",
        "print(\"Done. Dataset contains:\")"
      ],
      "metadata": {
        "colab": {
          "base_uri": "https://localhost:8080/"
        },
        "id": "JV_-neD-NU39",
        "outputId": "4edc5c20-26d9-4e09-f2dc-308c32122fad"
      },
      "execution_count": null,
      "outputs": [
        {
          "output_type": "stream",
          "name": "stdout",
          "text": [
            "Downloading movielens data...\n",
            "Done. Dataset contains:\n"
          ]
        }
      ]
    },
    {
      "cell_type": "code",
      "source": [],
      "metadata": {
        "id": "XQ5FdrtcMnQA"
      },
      "execution_count": null,
      "outputs": []
    },
    {
      "cell_type": "code",
      "source": [],
      "metadata": {
        "id": "KH_FcZypNGau"
      },
      "execution_count": null,
      "outputs": []
    },
    {
      "cell_type": "markdown",
      "source": [],
      "metadata": {
        "id": "nSA9d6MoMmLz"
      }
    },
    {
      "cell_type": "code",
      "source": [
        "import pandas as pd\n",
        "import collections\n",
        "import networkx as nx\n",
        "\n",
        "ratings = pd.read_csv('ml-latest-small/ratings.csv')\n",
        "movies = pd.read_csv('ml-latest-small/movies.csv')\n",
        "merged = pd.merge(ratings, movies, on='movieId', how='left')\n",
        "merged\n"
      ],
      "metadata": {
        "colab": {
          "base_uri": "https://localhost:8080/",
          "height": 424
        },
        "id": "h5GNC-j2qM7R",
        "outputId": "9fec5b0d-d6ae-4e2b-92fe-630c8a78691b"
      },
      "execution_count": null,
      "outputs": [
        {
          "output_type": "execute_result",
          "data": {
            "text/plain": [
              "        userId  movieId  rating   timestamp                           title  \\\n",
              "0            1        1     4.0   964982703                Toy Story (1995)   \n",
              "1            1        3     4.0   964981247         Grumpier Old Men (1995)   \n",
              "2            1        6     4.0   964982224                     Heat (1995)   \n",
              "3            1       47     5.0   964983815     Seven (a.k.a. Se7en) (1995)   \n",
              "4            1       50     5.0   964982931      Usual Suspects, The (1995)   \n",
              "...        ...      ...     ...         ...                             ...   \n",
              "100831     610   166534     4.0  1493848402                    Split (2017)   \n",
              "100832     610   168248     5.0  1493850091   John Wick: Chapter Two (2017)   \n",
              "100833     610   168250     5.0  1494273047                  Get Out (2017)   \n",
              "100834     610   168252     5.0  1493846352                    Logan (2017)   \n",
              "100835     610   170875     3.0  1493846415  The Fate of the Furious (2017)   \n",
              "\n",
              "                                             genres  \n",
              "0       Adventure|Animation|Children|Comedy|Fantasy  \n",
              "1                                    Comedy|Romance  \n",
              "2                             Action|Crime|Thriller  \n",
              "3                                  Mystery|Thriller  \n",
              "4                            Crime|Mystery|Thriller  \n",
              "...                                             ...  \n",
              "100831                        Drama|Horror|Thriller  \n",
              "100832                        Action|Crime|Thriller  \n",
              "100833                                       Horror  \n",
              "100834                                Action|Sci-Fi  \n",
              "100835                  Action|Crime|Drama|Thriller  \n",
              "\n",
              "[100836 rows x 6 columns]"
            ],
            "text/html": [
              "\n",
              "  <div id=\"df-2e17f646-6655-4a48-800d-8cea3e3226ce\">\n",
              "    <div class=\"colab-df-container\">\n",
              "      <div>\n",
              "<style scoped>\n",
              "    .dataframe tbody tr th:only-of-type {\n",
              "        vertical-align: middle;\n",
              "    }\n",
              "\n",
              "    .dataframe tbody tr th {\n",
              "        vertical-align: top;\n",
              "    }\n",
              "\n",
              "    .dataframe thead th {\n",
              "        text-align: right;\n",
              "    }\n",
              "</style>\n",
              "<table border=\"1\" class=\"dataframe\">\n",
              "  <thead>\n",
              "    <tr style=\"text-align: right;\">\n",
              "      <th></th>\n",
              "      <th>userId</th>\n",
              "      <th>movieId</th>\n",
              "      <th>rating</th>\n",
              "      <th>timestamp</th>\n",
              "      <th>title</th>\n",
              "      <th>genres</th>\n",
              "    </tr>\n",
              "  </thead>\n",
              "  <tbody>\n",
              "    <tr>\n",
              "      <th>0</th>\n",
              "      <td>1</td>\n",
              "      <td>1</td>\n",
              "      <td>4.0</td>\n",
              "      <td>964982703</td>\n",
              "      <td>Toy Story (1995)</td>\n",
              "      <td>Adventure|Animation|Children|Comedy|Fantasy</td>\n",
              "    </tr>\n",
              "    <tr>\n",
              "      <th>1</th>\n",
              "      <td>1</td>\n",
              "      <td>3</td>\n",
              "      <td>4.0</td>\n",
              "      <td>964981247</td>\n",
              "      <td>Grumpier Old Men (1995)</td>\n",
              "      <td>Comedy|Romance</td>\n",
              "    </tr>\n",
              "    <tr>\n",
              "      <th>2</th>\n",
              "      <td>1</td>\n",
              "      <td>6</td>\n",
              "      <td>4.0</td>\n",
              "      <td>964982224</td>\n",
              "      <td>Heat (1995)</td>\n",
              "      <td>Action|Crime|Thriller</td>\n",
              "    </tr>\n",
              "    <tr>\n",
              "      <th>3</th>\n",
              "      <td>1</td>\n",
              "      <td>47</td>\n",
              "      <td>5.0</td>\n",
              "      <td>964983815</td>\n",
              "      <td>Seven (a.k.a. Se7en) (1995)</td>\n",
              "      <td>Mystery|Thriller</td>\n",
              "    </tr>\n",
              "    <tr>\n",
              "      <th>4</th>\n",
              "      <td>1</td>\n",
              "      <td>50</td>\n",
              "      <td>5.0</td>\n",
              "      <td>964982931</td>\n",
              "      <td>Usual Suspects, The (1995)</td>\n",
              "      <td>Crime|Mystery|Thriller</td>\n",
              "    </tr>\n",
              "    <tr>\n",
              "      <th>...</th>\n",
              "      <td>...</td>\n",
              "      <td>...</td>\n",
              "      <td>...</td>\n",
              "      <td>...</td>\n",
              "      <td>...</td>\n",
              "      <td>...</td>\n",
              "    </tr>\n",
              "    <tr>\n",
              "      <th>100831</th>\n",
              "      <td>610</td>\n",
              "      <td>166534</td>\n",
              "      <td>4.0</td>\n",
              "      <td>1493848402</td>\n",
              "      <td>Split (2017)</td>\n",
              "      <td>Drama|Horror|Thriller</td>\n",
              "    </tr>\n",
              "    <tr>\n",
              "      <th>100832</th>\n",
              "      <td>610</td>\n",
              "      <td>168248</td>\n",
              "      <td>5.0</td>\n",
              "      <td>1493850091</td>\n",
              "      <td>John Wick: Chapter Two (2017)</td>\n",
              "      <td>Action|Crime|Thriller</td>\n",
              "    </tr>\n",
              "    <tr>\n",
              "      <th>100833</th>\n",
              "      <td>610</td>\n",
              "      <td>168250</td>\n",
              "      <td>5.0</td>\n",
              "      <td>1494273047</td>\n",
              "      <td>Get Out (2017)</td>\n",
              "      <td>Horror</td>\n",
              "    </tr>\n",
              "    <tr>\n",
              "      <th>100834</th>\n",
              "      <td>610</td>\n",
              "      <td>168252</td>\n",
              "      <td>5.0</td>\n",
              "      <td>1493846352</td>\n",
              "      <td>Logan (2017)</td>\n",
              "      <td>Action|Sci-Fi</td>\n",
              "    </tr>\n",
              "    <tr>\n",
              "      <th>100835</th>\n",
              "      <td>610</td>\n",
              "      <td>170875</td>\n",
              "      <td>3.0</td>\n",
              "      <td>1493846415</td>\n",
              "      <td>The Fate of the Furious (2017)</td>\n",
              "      <td>Action|Crime|Drama|Thriller</td>\n",
              "    </tr>\n",
              "  </tbody>\n",
              "</table>\n",
              "<p>100836 rows × 6 columns</p>\n",
              "</div>\n",
              "      <button class=\"colab-df-convert\" onclick=\"convertToInteractive('df-2e17f646-6655-4a48-800d-8cea3e3226ce')\"\n",
              "              title=\"Convert this dataframe to an interactive table.\"\n",
              "              style=\"display:none;\">\n",
              "        \n",
              "  <svg xmlns=\"http://www.w3.org/2000/svg\" height=\"24px\"viewBox=\"0 0 24 24\"\n",
              "       width=\"24px\">\n",
              "    <path d=\"M0 0h24v24H0V0z\" fill=\"none\"/>\n",
              "    <path d=\"M18.56 5.44l.94 2.06.94-2.06 2.06-.94-2.06-.94-.94-2.06-.94 2.06-2.06.94zm-11 1L8.5 8.5l.94-2.06 2.06-.94-2.06-.94L8.5 2.5l-.94 2.06-2.06.94zm10 10l.94 2.06.94-2.06 2.06-.94-2.06-.94-.94-2.06-.94 2.06-2.06.94z\"/><path d=\"M17.41 7.96l-1.37-1.37c-.4-.4-.92-.59-1.43-.59-.52 0-1.04.2-1.43.59L10.3 9.45l-7.72 7.72c-.78.78-.78 2.05 0 2.83L4 21.41c.39.39.9.59 1.41.59.51 0 1.02-.2 1.41-.59l7.78-7.78 2.81-2.81c.8-.78.8-2.07 0-2.86zM5.41 20L4 18.59l7.72-7.72 1.47 1.35L5.41 20z\"/>\n",
              "  </svg>\n",
              "      </button>\n",
              "      \n",
              "  <style>\n",
              "    .colab-df-container {\n",
              "      display:flex;\n",
              "      flex-wrap:wrap;\n",
              "      gap: 12px;\n",
              "    }\n",
              "\n",
              "    .colab-df-convert {\n",
              "      background-color: #E8F0FE;\n",
              "      border: none;\n",
              "      border-radius: 50%;\n",
              "      cursor: pointer;\n",
              "      display: none;\n",
              "      fill: #1967D2;\n",
              "      height: 32px;\n",
              "      padding: 0 0 0 0;\n",
              "      width: 32px;\n",
              "    }\n",
              "\n",
              "    .colab-df-convert:hover {\n",
              "      background-color: #E2EBFA;\n",
              "      box-shadow: 0px 1px 2px rgba(60, 64, 67, 0.3), 0px 1px 3px 1px rgba(60, 64, 67, 0.15);\n",
              "      fill: #174EA6;\n",
              "    }\n",
              "\n",
              "    [theme=dark] .colab-df-convert {\n",
              "      background-color: #3B4455;\n",
              "      fill: #D2E3FC;\n",
              "    }\n",
              "\n",
              "    [theme=dark] .colab-df-convert:hover {\n",
              "      background-color: #434B5C;\n",
              "      box-shadow: 0px 1px 3px 1px rgba(0, 0, 0, 0.15);\n",
              "      filter: drop-shadow(0px 1px 2px rgba(0, 0, 0, 0.3));\n",
              "      fill: #FFFFFF;\n",
              "    }\n",
              "  </style>\n",
              "\n",
              "      <script>\n",
              "        const buttonEl =\n",
              "          document.querySelector('#df-2e17f646-6655-4a48-800d-8cea3e3226ce button.colab-df-convert');\n",
              "        buttonEl.style.display =\n",
              "          google.colab.kernel.accessAllowed ? 'block' : 'none';\n",
              "\n",
              "        async function convertToInteractive(key) {\n",
              "          const element = document.querySelector('#df-2e17f646-6655-4a48-800d-8cea3e3226ce');\n",
              "          const dataTable =\n",
              "            await google.colab.kernel.invokeFunction('convertToInteractive',\n",
              "                                                     [key], {});\n",
              "          if (!dataTable) return;\n",
              "\n",
              "          const docLinkHtml = 'Like what you see? Visit the ' +\n",
              "            '<a target=\"_blank\" href=https://colab.research.google.com/notebooks/data_table.ipynb>data table notebook</a>'\n",
              "            + ' to learn more about interactive tables.';\n",
              "          element.innerHTML = '';\n",
              "          dataTable['output_type'] = 'display_data';\n",
              "          await google.colab.output.renderOutput(dataTable, element);\n",
              "          const docLink = document.createElement('div');\n",
              "          docLink.innerHTML = docLinkHtml;\n",
              "          element.appendChild(docLink);\n",
              "        }\n",
              "      </script>\n",
              "    </div>\n",
              "  </div>\n",
              "  "
            ]
          },
          "metadata": {},
          "execution_count": 10
        }
      ]
    },
    {
      "cell_type": "code",
      "source": [],
      "metadata": {
        "id": "dZA0W5I2tUqy"
      },
      "execution_count": null,
      "outputs": []
    },
    {
      "cell_type": "code",
      "source": [],
      "metadata": {
        "id": "H95xPd-erFcw"
      },
      "execution_count": null,
      "outputs": []
    },
    {
      "cell_type": "markdown",
      "source": [
        "Creamos un grafo dirigido en el que los nodos son películas y los bordes representan calificaciones de usuarios. Un borde de la película A a la película B significa que un usuario calificó ambas películas."
      ],
      "metadata": {
        "id": "3gVhvuC6R6ci"
      }
    },
    {
      "cell_type": "code",
      "source": [
        "G = nx.DiGraph()\n",
        "\n",
        "for user in ratings['userId'].unique():\n",
        "    user_ratings = ratings[ratings['userId'] == user].sort_values(by='timestamp')\n",
        "    for i in range(len(user_ratings) - 1):\n",
        "        G.add_edge(user_ratings.iloc[i]['movieId'], user_ratings.iloc[i+1]['movieId'])\n"
      ],
      "metadata": {
        "id": "nCZ8CYgxp7PR"
      },
      "execution_count": null,
      "outputs": []
    },
    {
      "cell_type": "markdown",
      "source": [
        "Ahora, podemos calcular PageRank en este grafo. Esto nos dará una puntuación para cada película que representa su importancia en el grafo, que interpretaremos como una recomendación.\n",
        "\n"
      ],
      "metadata": {
        "id": "IxHYAQtnRyax"
      }
    },
    {
      "cell_type": "code",
      "source": [
        "pagerank = nx.pagerank(G)\n"
      ],
      "metadata": {
        "id": "68kVnTTZooIY"
      },
      "execution_count": null,
      "outputs": []
    },
    {
      "cell_type": "markdown",
      "source": [
        "Ordenamos un poco."
      ],
      "metadata": {
        "id": "Ed6EK7ImVEtt"
      }
    },
    {
      "cell_type": "code",
      "source": [
        "PRSorted= sorted(pagerank.items(), key=lambda x:x[1], reverse=True)[:10]"
      ],
      "metadata": {
        "id": "a4L-WIPsShfa"
      },
      "execution_count": null,
      "outputs": []
    },
    {
      "cell_type": "markdown",
      "source": [
        "Imprimimos el ranking obtenido."
      ],
      "metadata": {
        "id": "4QyhwabOVKRF"
      }
    },
    {
      "cell_type": "code",
      "source": [
        "for mid in PRSorted:\n",
        "  print(merged[merged.movieId==mid[0]].title.values[0])"
      ],
      "metadata": {
        "colab": {
          "base_uri": "https://localhost:8080/"
        },
        "id": "W1vu99asTsvs",
        "outputId": "45d18961-34a1-4098-bc7d-cc64e6f759cc"
      },
      "execution_count": null,
      "outputs": [
        {
          "output_type": "stream",
          "name": "stdout",
          "text": [
            "Forrest Gump (1994)\n",
            "Pulp Fiction (1994)\n",
            "American Beauty (1999)\n",
            "Matrix, The (1999)\n",
            "Silence of the Lambs, The (1991)\n",
            "Shawshank Redemption, The (1994)\n",
            "Fight Club (1999)\n",
            "Star Wars: Episode IV - A New Hope (1977)\n",
            "Godfather, The (1972)\n",
            "Jurassic Park (1993)\n"
          ]
        }
      ]
    },
    {
      "cell_type": "markdown",
      "source": [
        "Podemos usar estas puntuaciones para hacer recomendaciones a los usuarios. Por ejemplo, para recomendar 5 películas a un usuario, podemos tomar las 5 películas con el mayor PageRank que el usuario aún no ha calificado"
      ],
      "metadata": {
        "id": "2ZWBGKgRRjfP"
      }
    },
    {
      "cell_type": "code",
      "source": [
        "def Recomendacion_Pelicula(user_id, num_recommendations=5):\n",
        "    seen_movies = ratings[ratings['userId'] == user_id]['movieId'].unique()\n",
        "    movie_scores = {movie: score for movie, score in pagerank.items() if movie not in seen_movies}\n",
        "    recommended_movies = sorted(movie_scores, key=movie_scores.get, reverse=True)[:num_recommendations]\n",
        "    return recommended_movies\n"
      ],
      "metadata": {
        "id": "lQJkD5vGoN_p"
      },
      "execution_count": null,
      "outputs": []
    },
    {
      "cell_type": "markdown",
      "source": [
        "Finalmente, podemos implementar un simple análisis de la cesta de la compra observando las películas que los usuarios suelen ver juntas. Por ejemplo, podríamos ver las películas más comúnmente vistas después de una película en particular."
      ],
      "metadata": {
        "id": "8RUY5FrbRU1_"
      }
    },
    {
      "cell_type": "code",
      "source": [
        "def commonly_follows(movie_id):\n",
        "    following_movies = [edge[1] for edge in G.edges(movie_id)]\n",
        "    counter = collections.Counter(following_movies)\n",
        "    return counter.most_common(5)\n"
      ],
      "metadata": {
        "id": "4O8OQ5q-oEBm"
      },
      "execution_count": null,
      "outputs": []
    },
    {
      "cell_type": "code",
      "source": [
        "SelectMovie = 100\n",
        "print(merged[merged.movieId==SelectMovie].title.values[0])"
      ],
      "metadata": {
        "colab": {
          "base_uri": "https://localhost:8080/"
        },
        "id": "h86jBMgnVcw4",
        "outputId": "5ef24ac1-4c56-4e58-d4e7-463725b0d241"
      },
      "execution_count": null,
      "outputs": [
        {
          "output_type": "stream",
          "name": "stdout",
          "text": [
            "City Hall (1996)\n"
          ]
        }
      ]
    },
    {
      "cell_type": "markdown",
      "source": [
        "Regresamos las peliculas que comunmente ven en conjunto."
      ],
      "metadata": {
        "id": "GlruHwpmWBy_"
      }
    },
    {
      "cell_type": "code",
      "source": [
        "fls = commonly_follows(SelectMovie)\n",
        "for mid in fls:\n",
        "  print(merged[merged.movieId==mid[0]].title.values[0])"
      ],
      "metadata": {
        "colab": {
          "base_uri": "https://localhost:8080/"
        },
        "id": "wud_YVLxrEV6",
        "outputId": "60396ba2-f152-4f18-9021-53997ea6add6"
      },
      "execution_count": null,
      "outputs": [
        {
          "output_type": "stream",
          "name": "stdout",
          "text": [
            "Fantasia (1940)\n",
            "Like Water for Chocolate (Como agua para chocolate) (1992)\n",
            "Star Wars: Episode VI - Return of the Jedi (1983)\n",
            "Incredibles, The (2004)\n",
            "Independence Day (a.k.a. ID4) (1996)\n"
          ]
        }
      ]
    },
    {
      "cell_type": "markdown",
      "source": [
        "------"
      ],
      "metadata": {
        "id": "Gcwg32mBWOR-"
      }
    },
    {
      "cell_type": "code",
      "source": [
        "SelectUser = 100\n",
        "MbyU = merged[merged.userId==SelectUser].title.values\n",
        "print('Numero de peliculas calificadas del usuario: ',len(MbyU))\n",
        "print('Primeras 10: ',MbyU[:10])\n"
      ],
      "metadata": {
        "colab": {
          "base_uri": "https://localhost:8080/"
        },
        "id": "G82IBOwYWNoc",
        "outputId": "0686d315-5f7b-40d7-dd27-4db9c6ec2973"
      },
      "execution_count": null,
      "outputs": [
        {
          "output_type": "stream",
          "name": "stdout",
          "text": [
            "Numero de peliculas calificadas del usuario:  148\n",
            "Primeras 10:  ['Grumpier Old Men (1995)' 'American President, The (1995)'\n",
            " 'Casino (1995)' 'Sense and Sensibility (1995)'\n",
            " 'Ace Ventura: When Nature Calls (1995)' 'Persuasion (1995)'\n",
            " \"Mr. Holland's Opus (1995)\" 'Bed of Roses (1996)' 'Nick of Time (1995)'\n",
            " 'Broken Arrow (1996)']\n"
          ]
        }
      ]
    },
    {
      "cell_type": "markdown",
      "source": [
        "Regresamos la recomendación de pelicula para el usuario."
      ],
      "metadata": {
        "id": "9QiMdq3hWHfH"
      }
    },
    {
      "cell_type": "code",
      "source": [
        "rmovs= Recomendacion_Pelicula(SelectUser)\n",
        "for mid in rmovs:\n",
        "  print(merged[merged.movieId==mid].title.values[0])"
      ],
      "metadata": {
        "id": "uZpg-2_rrEgl",
        "colab": {
          "base_uri": "https://localhost:8080/"
        },
        "outputId": "b16121b4-0912-4c40-b336-74196d30973d"
      },
      "execution_count": null,
      "outputs": [
        {
          "output_type": "stream",
          "name": "stdout",
          "text": [
            "American Beauty (1999)\n",
            "Matrix, The (1999)\n",
            "Silence of the Lambs, The (1991)\n",
            "Shawshank Redemption, The (1994)\n",
            "Fight Club (1999)\n"
          ]
        }
      ]
    },
    {
      "cell_type": "code",
      "source": [],
      "metadata": {
        "id": "6naeoMfXrEnh",
        "colab": {
          "base_uri": "https://localhost:8080/"
        },
        "outputId": "bcdcde63-3360-430a-8eb5-9e6a0f8f2d9e"
      },
      "execution_count": null,
      "outputs": [
        {
          "output_type": "execute_result",
          "data": {
            "text/plain": [
              "[318.0, 858.0, 589.0, 2762.0, 4306.0]"
            ]
          },
          "metadata": {},
          "execution_count": 41
        }
      ]
    },
    {
      "cell_type": "markdown",
      "source": [],
      "metadata": {
        "id": "lQjqGOBWMdZ6"
      }
    },
    {
      "cell_type": "code",
      "source": [],
      "metadata": {
        "id": "3l2D-V_8MdGz"
      },
      "execution_count": null,
      "outputs": []
    },
    {
      "cell_type": "markdown",
      "source": [
        "# GNN"
      ],
      "metadata": {
        "id": "f8QWbj6VneiT"
      }
    },
    {
      "cell_type": "code",
      "source": [
        "\n"
      ],
      "metadata": {
        "id": "XD78g4xgng-L"
      },
      "execution_count": null,
      "outputs": []
    },
    {
      "cell_type": "code",
      "source": [],
      "metadata": {
        "id": "xdy0FluYneNd"
      },
      "execution_count": null,
      "outputs": []
    },
    {
      "cell_type": "markdown",
      "source": [
        "#PyG\n"
      ],
      "metadata": {
        "id": "1zWP6dKkWYI_"
      }
    },
    {
      "cell_type": "markdown",
      "source": [
        "## Preparación de ambiente"
      ],
      "metadata": {
        "id": "9hea8EY8b3D1"
      }
    },
    {
      "cell_type": "code",
      "source": [
        "# Install required packages.\n",
        "import os\n",
        "import torch\n",
        "os.environ['TORCH'] = torch.__version__\n",
        "print(torch.__version__)\n",
        "\n",
        "!pip install -q torch-scatter -f https://data.pyg.org/whl/torch-${TORCH}.html\n",
        "!pip install -q torch-sparse -f https://data.pyg.org/whl/torch-${TORCH}.html\n",
        "!pip install -q git+https://github.com/pyg-team/pytorch_geometric.git\n",
        "!pip install -q sentence-transformers\n",
        "\n",
        "# Helper function for visualization.\n",
        "%matplotlib inline\n",
        "import networkx as nx\n",
        "import matplotlib.pyplot as plt\n",
        "\n",
        "\n",
        "def visualize_graph(G, color):\n",
        "    plt.figure(figsize=(7,7))\n",
        "    plt.xticks([])\n",
        "    plt.yticks([])\n",
        "    nx.draw_networkx(G, pos=nx.spring_layout(G, seed=42), with_labels=False,\n",
        "                     node_color=color, cmap=\"Set2\")\n",
        "    plt.show()\n",
        "\n",
        "\n",
        "def visualize_embedding(h, color, epoch=None, loss=None):\n",
        "    plt.figure(figsize=(7,7))\n",
        "    plt.xticks([])\n",
        "    plt.yticks([])\n",
        "    h = h.detach().cpu().numpy()\n",
        "    plt.scatter(h[:, 0], h[:, 1], s=140, c=color, cmap=\"Set2\")\n",
        "    if epoch is not None and loss is not None:\n",
        "        plt.xlabel(f'Epoch: {epoch}, Loss: {loss.item():.4f}', fontsize=16)\n",
        "    plt.show()"
      ],
      "metadata": {
        "id": "JEqEOxSxWXzY"
      },
      "execution_count": null,
      "outputs": []
    },
    {
      "cell_type": "code",
      "source": [
        "import os.path as osp\n",
        "\n",
        "import pandas as pd\n",
        "import torch\n",
        "from sentence_transformers import SentenceTransformer\n",
        "\n",
        "from torch_geometric.data import HeteroData, download_url, extract_zip\n",
        "from torch_geometric.transforms import RandomLinkSplit, ToUndirected\n",
        "\n",
        "url = 'https://files.grouplens.org/datasets/movielens/ml-latest-small.zip'\n",
        "extract_zip(download_url(url, '.'), '.')\n",
        "movie_path = './movies.csv'\n",
        "rating_path = './ratings.csv'\n",
        "\n",
        "\n",
        "\n",
        "def load_node_csv(path, index_col, encoders=None, **kwargs):\n",
        "    df = pd.read_csv(path, index_col=index_col, **kwargs)\n",
        "    mapping = {index: i for i, index in enumerate(df.index.unique())}\n",
        "\n",
        "    x = None\n",
        "    if encoders is not None:\n",
        "        xs = [encoder(df[col]) for col, encoder in encoders.items()]\n",
        "        x = torch.cat(xs, dim=-1)\n",
        "\n",
        "    return x, mapping\n",
        "\n",
        "\n",
        "def load_edge_csv(path, src_index_col, src_mapping, dst_index_col, dst_mapping,\n",
        "                  encoders=None, **kwargs):\n",
        "    df = pd.read_csv(path, **kwargs)\n",
        "\n",
        "    src = [src_mapping[index] for index in df[src_index_col]]\n",
        "    dst = [dst_mapping[index] for index in df[dst_index_col]]\n",
        "    edge_index = torch.tensor([src, dst])\n",
        "\n",
        "    edge_attr = None\n",
        "    if encoders is not None:\n",
        "        edge_attrs = [encoder(df[col]) for col, encoder in encoders.items()]\n",
        "        edge_attr = torch.cat(edge_attrs, dim=-1)\n",
        "\n",
        "    return edge_index, edge_attr\n",
        "\n",
        "\n",
        "class SequenceEncoder:\n",
        "    # The 'SequenceEncoder' encodes raw column strings into embeddings.\n",
        "    def __init__(self, model_name='all-MiniLM-L6-v2', device=None):\n",
        "        self.device = device\n",
        "        self.model = SentenceTransformer(model_name, device=device)\n",
        "\n",
        "    @torch.no_grad()\n",
        "    def __call__(self, df):\n",
        "        x = self.model.encode(df.values, show_progress_bar=True,\n",
        "                              convert_to_tensor=True, device=self.device)\n",
        "        return x.cpu()\n",
        "\n",
        "\n",
        "class GenresEncoder:\n",
        "    # The 'GenreEncoder' splits the raw column strings by 'sep' and converts\n",
        "    # individual elements to categorical labels.\n",
        "    def __init__(self, sep='|'):\n",
        "        self.sep = sep\n",
        "\n",
        "    def __call__(self, df):\n",
        "        genres = set(g for col in df.values for g in col.split(self.sep))\n",
        "        mapping = {genre: i for i, genre in enumerate(genres)}\n",
        "\n",
        "        x = torch.zeros(len(df), len(mapping))\n",
        "        for i, col in enumerate(df.values):\n",
        "            for genre in col.split(self.sep):\n",
        "                x[i, mapping[genre]] = 1\n",
        "        return x\n",
        "\n",
        "\n",
        "class IdentityEncoder:\n",
        "    # The 'IdentityEncoder' takes the raw column values and converts them to\n",
        "    # PyTorch tensors.\n",
        "    def __init__(self, dtype=None):\n",
        "        self.dtype = dtype\n",
        "\n",
        "    def __call__(self, df):\n",
        "        return torch.from_numpy(df.values).view(-1, 1).to(self.dtype)\n",
        "\n",
        "\n"
      ],
      "metadata": {
        "id": "1QGHg8_gWiym"
      },
      "execution_count": null,
      "outputs": []
    },
    {
      "cell_type": "code",
      "source": [
        "user_x, user_mapping = load_node_csv(rating_path, index_col='userId')\n",
        "\n",
        "movie_x, movie_mapping = load_node_csv(\n",
        "    movie_path, index_col='movieId', encoders={\n",
        "        'title': SequenceEncoder(),\n",
        "        'genres': GenresEncoder()\n",
        "    })\n",
        "\n"
      ],
      "metadata": {
        "id": "ej_MosZtZtYs"
      },
      "execution_count": null,
      "outputs": []
    },
    {
      "cell_type": "code",
      "source": [
        "edge_index, edge_label = load_edge_csv(\n",
        "    rating_path,\n",
        "    src_index_col='userId',\n",
        "    src_mapping=user_mapping,\n",
        "    dst_index_col='movieId',\n",
        "    dst_mapping=movie_mapping,\n",
        "    encoders={'rating': IdentityEncoder(dtype=torch.long)},\n",
        ")\n",
        "\n",
        "data = HeteroData()\n",
        "data['user'].num_nodes = len(user_mapping)  # Users do not have any features.\n",
        "data['movie'].x = movie_x\n",
        "data['user', 'rates', 'movie'].edge_index = edge_index\n",
        "data['user', 'rates', 'movie'].edge_label = edge_label\n",
        "print(data)\n",
        "\n"
      ],
      "metadata": {
        "id": "aVKI5Mp6bIiV"
      },
      "execution_count": null,
      "outputs": []
    },
    {
      "cell_type": "code",
      "source": [
        "# We can now convert `data` into an appropriate format for training a\n",
        "# graph-based machine learning model:\n",
        "\n",
        "# 1. Add a reverse ('movie', 'rev_rates', 'user') relation for message passing.\n",
        "data = ToUndirected()(data)\n",
        "del data['movie', 'rev_rates', 'user'].edge_label  # Remove \"reverse\" label.\n",
        "\n",
        "# 2. Perform a link-level split into training, validation, and test edges.\n",
        "transform = RandomLinkSplit(\n",
        "    num_val=0.05,\n",
        "    num_test=0.1,\n",
        "    neg_sampling_ratio=0.0,\n",
        "    edge_types=[('user', 'rates', 'movie')],\n",
        "    rev_edge_types=[('movie', 'rev_rates', 'user')],\n",
        ")\n",
        "train_data, val_data, test_data = transform(data)\n",
        "print(train_data)\n",
        "print(val_data)\n",
        "print(test_data)"
      ],
      "metadata": {
        "id": "59NONe-jcxck"
      },
      "execution_count": null,
      "outputs": []
    },
    {
      "cell_type": "code",
      "source": [
        "data"
      ],
      "metadata": {
        "id": "sYi9X_I5c68n"
      },
      "execution_count": null,
      "outputs": []
    },
    {
      "cell_type": "code",
      "source": [
        "import networkx as nx\n",
        "from networkx.algorithms import bipartite\n",
        "\n",
        "# Crear el grafo multipartito\n",
        "B = nx.Graph()\n",
        "B.add_nodes_from(['user1', 'user2', 'user3'], bipartite=0) # Add the node attribute \"bipartite\"\n",
        "B.add_nodes_from(['song1', 'song2', 'song3', 'song4'], bipartite=1)\n",
        "B.add_edges_from([('user1', 'song1'), ('user1', 'song2'), ('user2', 'song2'), ('user2', 'song3'), ('user3', 'song3'), ('user3', 'song4')])\n",
        "\n",
        "# Crear proyecciones de usuarios y canciones\n",
        "users = {n for n, d in B.nodes(data=True) if d['bipartite']==0}\n",
        "songs = {n for n, d in B.nodes(data=True) if d['bipartite']==1}\n",
        "\n",
        "user_net = nx.bipartite.projected_graph(B, users)\n",
        "song_net = nx.bipartite.projected_graph(B, songs)\n",
        "\n",
        "# Hacer recomendaciones basadas en la proximidad de los usuarios\n",
        "for user in user_net:\n",
        "    print(f\"Recomendaciones para {user}:\")\n",
        "    for neighbor in user_net.neighbors(user):\n",
        "        # Obtenemos las canciones que ha escuchado el 'vecino'\n",
        "        neighbor_songs = set(B.neighbors(neighbor))\n",
        "        # Obtenemos las canciones que ya ha escuchado el usuario\n",
        "        user_songs = set(B.neighbors(user))\n",
        "        # Recomendamos las canciones que ha escuchado el 'vecino', pero que el usuario aún no ha escuchado\n",
        "        recommendations = neighbor_songs - user_songs\n",
        "        for song in recommendations:\n",
        "            print(f\"   {song}\")\n"
      ],
      "metadata": {
        "id": "h1LlXqLrdG7a"
      },
      "execution_count": null,
      "outputs": []
    },
    {
      "cell_type": "code",
      "source": [
        "import networkx as nx\n",
        "from networkx.algorithms import bipartite\n",
        "from collections import Counter\n",
        "\n",
        "# Crear el grafo multipartito\n",
        "B = nx.Graph()\n",
        "B.add_nodes_from(['user1', 'user2', 'user3'], bipartite=0) # Add the node attribute \"bipartite\"\n",
        "B.add_nodes_from(['song1', 'song2', 'song3', 'song4'], bipartite=1)\n",
        "B.add_edges_from([('user1', 'song1'), ('user1', 'song2'), ('user2', 'song2'),\n",
        "                  ('user2', 'song3'), ('user3', 'song3'), ('user3', 'song4')])\n",
        "\n",
        "# Crear proyecciones de usuarios y canciones\n",
        "users = {n for n, d in B.nodes(data=True) if d['bipartite']==0}\n",
        "songs = {n for n, d in B.nodes(data=True) if d['bipartite']==1}\n",
        "\n",
        "user_net = nx.bipartite.projected_graph(B, users)\n",
        "song_net = nx.bipartite.projected_graph(B, songs)\n",
        "\n",
        "# Hacer recomendaciones basadas en la proximidad de los usuarios y la popularidad de las canciones\n",
        "for user in user_net:\n",
        "    print(f\"Recomendaciones para {user}:\")\n",
        "    # inicializamos un contador para las recomendaciones\n",
        "    rec_counter = Counter()\n",
        "    for neighbor in user_net.neighbors(user):\n",
        "        # Obtenemos las canciones que ha escuchado el 'vecino'\n",
        "        neighbor_songs = set(B.neighbors(neighbor))\n",
        "        # Obtenemos las canciones que ya ha escuchado el usuario\n",
        "        user_songs = set(B.neighbors(user))\n",
        "        # Recomendamos las canciones que ha escuchado el 'vecino', pero que el usuario aún no ha escuchado\n",
        "        recommendations = neighbor_songs - user_songs\n",
        "        for song in recommendations:\n",
        "            # añadimos las recomendaciones al contador\n",
        "            rec_counter[song] += 1\n",
        "    # ordenamos las recomendaciones por popularidad (el número de 'vecinos' que las han escuchado)\n",
        "    sorted_rec = sorted(rec_counter.items(), key=lambda x: x[1], reverse=True)\n",
        "    for song, count in sorted_rec:\n",
        "        print(f\"   {song} (escuchada por {count} vecinos)\")\n"
      ],
      "metadata": {
        "id": "TrpqhRA_iGhN"
      },
      "execution_count": null,
      "outputs": []
    },
    {
      "cell_type": "markdown",
      "source": [],
      "metadata": {
        "id": "ngtdJMbD-H2c"
      }
    },
    {
      "cell_type": "code",
      "source": [],
      "metadata": {
        "id": "NBPeCAvvj2kW"
      },
      "execution_count": null,
      "outputs": []
    }
  ]
}